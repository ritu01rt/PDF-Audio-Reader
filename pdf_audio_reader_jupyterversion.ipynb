{
 "cells": [
  {
   "cell_type": "code",
   "execution_count": null,
   "metadata": {},
   "outputs": [],
   "source": [
    "import PyPDF2\n",
    "import pyttsx3\n",
    "\n",
    "\n",
    "def extract_text(filename):\n",
    "\t\"\"\"\n",
    "\tfunction to extract text from pdf at given filename\n",
    "\t\"\"\"\n",
    "\tpdfFileObj = open(filename, \"rb\")\n",
    "\tpdfReader = PyPDF2.PdfFileReader(pdfFileObj)\n",
    "\n",
    "\tmytext = \"\"\n",
    "\n",
    "\tfor pageNum in range(pdfReader.numPages):\n",
    "\t\tpageObj = pdfReader.getPage(pageNum)\n",
    "\t\tmytext += pageObj.extractText()\n",
    "\n",
    "\tpdfFileObj.close()\n",
    "\n",
    "\treturn mytext\n",
    "\n",
    "\n",
    "def speak_text(text):\n",
    "\t\"\"\"\n",
    "\tfunction to invoke TTS engine to speak the pdf text\n",
    "\t\"\"\"\n",
    "\tengine = pyttsx3.init()\n",
    "\tengine.setProperty('rate', 150)\n",
    "\tengine.setProperty('voice', 'en+m7')\n",
    "\tengine.say(text)\n",
    "\tengine.runAndWait()\n",
    "\n",
    "\n",
    "if __name__ == \"__main__\":\n",
    "\ttext = extract_text(\"quotes.pdf\")\n",
    "\tspeak_text(text)"
   ]
  },
  {
   "cell_type": "code",
   "execution_count": null,
   "metadata": {},
   "outputs": [],
   "source": []
  },
  {
   "cell_type": "code",
   "execution_count": null,
   "metadata": {},
   "outputs": [],
   "source": []
  }
 ],
 "metadata": {
  "kernelspec": {
   "display_name": "Python 3",
   "language": "python",
   "name": "python3"
  },
  "language_info": {
   "codemirror_mode": {
    "name": "ipython",
    "version": 3
   },
   "file_extension": ".py",
   "mimetype": "text/x-python",
   "name": "python",
   "nbconvert_exporter": "python",
   "pygments_lexer": "ipython3",
   "version": "3.6.7"
  }
 },
 "nbformat": 4,
 "nbformat_minor": 2
}
